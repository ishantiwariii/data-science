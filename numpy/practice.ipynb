{
 "cells": [
  {
   "cell_type": "markdown",
   "id": "802e33aa",
   "metadata": {},
   "source": [
    "## Import numpy as np and see the version\n"
   ]
  },
  {
   "cell_type": "code",
   "execution_count": 1,
   "id": "69397cd1",
   "metadata": {},
   "outputs": [
    {
     "name": "stdout",
     "output_type": "stream",
     "text": [
      "2.3.2\n"
     ]
    }
   ],
   "source": [
    "import numpy as np\n",
    "\n",
    "print(np.__version__)"
   ]
  },
  {
   "cell_type": "markdown",
   "id": "0c8b4730",
   "metadata": {},
   "source": [
    "### How to create a 1D array?"
   ]
  },
  {
   "cell_type": "code",
   "execution_count": 2,
   "id": "0b4efe0a",
   "metadata": {},
   "outputs": [
    {
     "name": "stdout",
     "output_type": "stream",
     "text": [
      "[1 3 4 5]\n"
     ]
    }
   ],
   "source": [
    "a = np.array([1 , 3 , 4 ,5 ])\n",
    "\n",
    "print(a)"
   ]
  },
  {
   "cell_type": "markdown",
   "id": "5005e7c3",
   "metadata": {},
   "source": [
    "### How to create a boolean array?"
   ]
  },
  {
   "cell_type": "code",
   "execution_count": 6,
   "id": "50cccc83",
   "metadata": {},
   "outputs": [
    {
     "name": "stdout",
     "output_type": "stream",
     "text": [
      "[[ True  True  True]\n",
      " [ True  True  True]\n",
      " [ True  True  True]]\n",
      "[[ True  True  True]\n",
      " [ True  True  True]\n",
      " [ True  True  True]]\n",
      "[[ True  True  True]\n",
      " [ True  True  True]\n",
      " [ True  True  True]]\n",
      "[[ True False False]\n",
      " [False  True False]\n",
      " [False False  True]]\n"
     ]
    }
   ],
   "source": [
    "a = np.full((3,3), True, dtype=bool)\n",
    "print(a)\n",
    "\n",
    "b = np.full(9, True, dtype=bool).reshape((3,3))\n",
    "print(b)\n",
    "\n",
    "c = np.ones((3,3) , dtype=bool)\n",
    "print(c)\n",
    "\n",
    "d = np.identity((3) , dtype=bool)\n",
    "print(d)"
   ]
  },
  {
   "cell_type": "markdown",
   "id": "97e5f818",
   "metadata": {},
   "source": [
    "### How to extract items that satisfy a given condition from 1D array?"
   ]
  },
  {
   "cell_type": "code",
   "execution_count": 13,
   "id": "8229e9b9",
   "metadata": {},
   "outputs": [
    {
     "name": "stdout",
     "output_type": "stream",
     "text": [
      "[[0 1]\n",
      " [2 3]\n",
      " [4 5]\n",
      " [6 7]\n",
      " [8 9]]\n",
      "[0 2 4 6 8]\n",
      "[[ 2  3]\n",
      " [ 4  5]\n",
      " [ 6  7]\n",
      " [ 8  9]\n",
      " [10 11]]\n"
     ]
    }
   ],
   "source": [
    "a = np.arange(10).reshape(5,2)\n",
    "\n",
    "print(a)\n",
    "\n",
    "arr1 = a[a % 2==0]\n",
    "print(arr1)\n",
    "\n",
    "arr1 = a+2\n",
    "print(arr1)"
   ]
  }
 ],
 "metadata": {
  "kernelspec": {
   "display_name": "Python 3",
   "language": "python",
   "name": "python3"
  },
  "language_info": {
   "codemirror_mode": {
    "name": "ipython",
    "version": 3
   },
   "file_extension": ".py",
   "mimetype": "text/x-python",
   "name": "python",
   "nbconvert_exporter": "python",
   "pygments_lexer": "ipython3",
   "version": "3.13.5"
  }
 },
 "nbformat": 4,
 "nbformat_minor": 5
}
