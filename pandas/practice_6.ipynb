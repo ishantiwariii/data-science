{
 "cells": [
  {
   "cell_type": "markdown",
   "id": "c0f2c001",
   "metadata": {},
   "source": [
    "### MultiIndex Series and DataFrames "
   ]
  },
  {
   "cell_type": "code",
   "execution_count": 1,
   "id": "27a90036",
   "metadata": {},
   "outputs": [],
   "source": [
    "import numpy as np \n",
    "import pandas as pd"
   ]
  },
  {
   "cell_type": "markdown",
   "id": "ba06ac28",
   "metadata": {},
   "source": [
    "### Series is 1D and DataFrames are 2D objects\n",
    "\n",
    "- But why?\n",
    "- And what exactly is index?"
   ]
  },
  {
   "cell_type": "code",
   "execution_count": 2,
   "id": "23522a13",
   "metadata": {},
   "outputs": [
    {
     "data": {
      "text/plain": [
       "(cse, 2019)    1\n",
       "(cse, 2020)    2\n",
       "(cse, 2021)    3\n",
       "(cse, 2022)    4\n",
       "(ece, 2019)    5\n",
       "(ece, 2020)    6\n",
       "(ece, 2021)    7\n",
       "(ece, 2022)    8\n",
       "dtype: int64"
      ]
     },
     "execution_count": 2,
     "metadata": {},
     "output_type": "execute_result"
    }
   ],
   "source": [
    "# can we have multiple index? Let's try\n",
    "index_val = [('cse',2019),('cse',2020),('cse',2021),('cse',2022),('ece',2019),('ece',2020),('ece',2021),('ece',2022)]\n",
    "a = pd.Series([1,2,3,4,5,6,7,8],index=index_val)\n",
    "a"
   ]
  },
  {
   "cell_type": "code",
   "execution_count": 3,
   "id": "a4c7c399",
   "metadata": {},
   "outputs": [
    {
     "ename": "KeyError",
     "evalue": "'cse'",
     "output_type": "error",
     "traceback": [
      "\u001b[31m---------------------------------------------------------------------------\u001b[39m",
      "\u001b[31mKeyError\u001b[39m                                  Traceback (most recent call last)",
      "\u001b[36mFile \u001b[39m\u001b[32mc:\\Users\\ieish\\AppData\\Local\\Programs\\Python\\Python313\\Lib\\site-packages\\pandas\\core\\indexes\\base.py:3812\u001b[39m, in \u001b[36mIndex.get_loc\u001b[39m\u001b[34m(self, key)\u001b[39m\n\u001b[32m   3811\u001b[39m \u001b[38;5;28;01mtry\u001b[39;00m:\n\u001b[32m-> \u001b[39m\u001b[32m3812\u001b[39m     \u001b[38;5;28;01mreturn\u001b[39;00m \u001b[38;5;28;43mself\u001b[39;49m\u001b[43m.\u001b[49m\u001b[43m_engine\u001b[49m\u001b[43m.\u001b[49m\u001b[43mget_loc\u001b[49m\u001b[43m(\u001b[49m\u001b[43mcasted_key\u001b[49m\u001b[43m)\u001b[49m\n\u001b[32m   3813\u001b[39m \u001b[38;5;28;01mexcept\u001b[39;00m \u001b[38;5;167;01mKeyError\u001b[39;00m \u001b[38;5;28;01mas\u001b[39;00m err:\n",
      "\u001b[36mFile \u001b[39m\u001b[32mpandas/_libs/index.pyx:167\u001b[39m, in \u001b[36mpandas._libs.index.IndexEngine.get_loc\u001b[39m\u001b[34m()\u001b[39m\n",
      "\u001b[36mFile \u001b[39m\u001b[32mpandas/_libs/index.pyx:196\u001b[39m, in \u001b[36mpandas._libs.index.IndexEngine.get_loc\u001b[39m\u001b[34m()\u001b[39m\n",
      "\u001b[36mFile \u001b[39m\u001b[32mpandas/_libs/hashtable_class_helper.pxi:7088\u001b[39m, in \u001b[36mpandas._libs.hashtable.PyObjectHashTable.get_item\u001b[39m\u001b[34m()\u001b[39m\n",
      "\u001b[36mFile \u001b[39m\u001b[32mpandas/_libs/hashtable_class_helper.pxi:7096\u001b[39m, in \u001b[36mpandas._libs.hashtable.PyObjectHashTable.get_item\u001b[39m\u001b[34m()\u001b[39m\n",
      "\u001b[31mKeyError\u001b[39m: 'cse'",
      "\nThe above exception was the direct cause of the following exception:\n",
      "\u001b[31mKeyError\u001b[39m                                  Traceback (most recent call last)",
      "\u001b[36mCell\u001b[39m\u001b[36m \u001b[39m\u001b[32mIn[3]\u001b[39m\u001b[32m, line 2\u001b[39m\n\u001b[32m      1\u001b[39m \u001b[38;5;66;03m# The problem?\u001b[39;00m\n\u001b[32m----> \u001b[39m\u001b[32m2\u001b[39m \u001b[43ma\u001b[49m\u001b[43m[\u001b[49m\u001b[33;43m'\u001b[39;49m\u001b[33;43mcse\u001b[39;49m\u001b[33;43m'\u001b[39;49m\u001b[43m]\u001b[49m\n",
      "\u001b[36mFile \u001b[39m\u001b[32mc:\\Users\\ieish\\AppData\\Local\\Programs\\Python\\Python313\\Lib\\site-packages\\pandas\\core\\series.py:1130\u001b[39m, in \u001b[36mSeries.__getitem__\u001b[39m\u001b[34m(self, key)\u001b[39m\n\u001b[32m   1127\u001b[39m     \u001b[38;5;28;01mreturn\u001b[39;00m \u001b[38;5;28mself\u001b[39m._values[key]\n\u001b[32m   1129\u001b[39m \u001b[38;5;28;01melif\u001b[39;00m key_is_scalar:\n\u001b[32m-> \u001b[39m\u001b[32m1130\u001b[39m     \u001b[38;5;28;01mreturn\u001b[39;00m \u001b[38;5;28;43mself\u001b[39;49m\u001b[43m.\u001b[49m\u001b[43m_get_value\u001b[49m\u001b[43m(\u001b[49m\u001b[43mkey\u001b[49m\u001b[43m)\u001b[49m\n\u001b[32m   1132\u001b[39m \u001b[38;5;66;03m# Convert generator to list before going through hashable part\u001b[39;00m\n\u001b[32m   1133\u001b[39m \u001b[38;5;66;03m# (We will iterate through the generator there to check for slices)\u001b[39;00m\n\u001b[32m   1134\u001b[39m \u001b[38;5;28;01mif\u001b[39;00m is_iterator(key):\n",
      "\u001b[36mFile \u001b[39m\u001b[32mc:\\Users\\ieish\\AppData\\Local\\Programs\\Python\\Python313\\Lib\\site-packages\\pandas\\core\\series.py:1246\u001b[39m, in \u001b[36mSeries._get_value\u001b[39m\u001b[34m(self, label, takeable)\u001b[39m\n\u001b[32m   1243\u001b[39m     \u001b[38;5;28;01mreturn\u001b[39;00m \u001b[38;5;28mself\u001b[39m._values[label]\n\u001b[32m   1245\u001b[39m \u001b[38;5;66;03m# Similar to Index.get_value, but we do not fall back to positional\u001b[39;00m\n\u001b[32m-> \u001b[39m\u001b[32m1246\u001b[39m loc = \u001b[38;5;28;43mself\u001b[39;49m\u001b[43m.\u001b[49m\u001b[43mindex\u001b[49m\u001b[43m.\u001b[49m\u001b[43mget_loc\u001b[49m\u001b[43m(\u001b[49m\u001b[43mlabel\u001b[49m\u001b[43m)\u001b[49m\n\u001b[32m   1248\u001b[39m \u001b[38;5;28;01mif\u001b[39;00m is_integer(loc):\n\u001b[32m   1249\u001b[39m     \u001b[38;5;28;01mreturn\u001b[39;00m \u001b[38;5;28mself\u001b[39m._values[loc]\n",
      "\u001b[36mFile \u001b[39m\u001b[32mc:\\Users\\ieish\\AppData\\Local\\Programs\\Python\\Python313\\Lib\\site-packages\\pandas\\core\\indexes\\base.py:3819\u001b[39m, in \u001b[36mIndex.get_loc\u001b[39m\u001b[34m(self, key)\u001b[39m\n\u001b[32m   3814\u001b[39m     \u001b[38;5;28;01mif\u001b[39;00m \u001b[38;5;28misinstance\u001b[39m(casted_key, \u001b[38;5;28mslice\u001b[39m) \u001b[38;5;129;01mor\u001b[39;00m (\n\u001b[32m   3815\u001b[39m         \u001b[38;5;28misinstance\u001b[39m(casted_key, abc.Iterable)\n\u001b[32m   3816\u001b[39m         \u001b[38;5;129;01mand\u001b[39;00m \u001b[38;5;28many\u001b[39m(\u001b[38;5;28misinstance\u001b[39m(x, \u001b[38;5;28mslice\u001b[39m) \u001b[38;5;28;01mfor\u001b[39;00m x \u001b[38;5;129;01min\u001b[39;00m casted_key)\n\u001b[32m   3817\u001b[39m     ):\n\u001b[32m   3818\u001b[39m         \u001b[38;5;28;01mraise\u001b[39;00m InvalidIndexError(key)\n\u001b[32m-> \u001b[39m\u001b[32m3819\u001b[39m     \u001b[38;5;28;01mraise\u001b[39;00m \u001b[38;5;167;01mKeyError\u001b[39;00m(key) \u001b[38;5;28;01mfrom\u001b[39;00m\u001b[38;5;250m \u001b[39m\u001b[34;01merr\u001b[39;00m\n\u001b[32m   3820\u001b[39m \u001b[38;5;28;01mexcept\u001b[39;00m \u001b[38;5;167;01mTypeError\u001b[39;00m:\n\u001b[32m   3821\u001b[39m     \u001b[38;5;66;03m# If we have a listlike key, _check_indexing_error will raise\u001b[39;00m\n\u001b[32m   3822\u001b[39m     \u001b[38;5;66;03m#  InvalidIndexError. Otherwise we fall through and re-raise\u001b[39;00m\n\u001b[32m   3823\u001b[39m     \u001b[38;5;66;03m#  the TypeError.\u001b[39;00m\n\u001b[32m   3824\u001b[39m     \u001b[38;5;28mself\u001b[39m._check_indexing_error(key)\n",
      "\u001b[31mKeyError\u001b[39m: 'cse'"
     ]
    }
   ],
   "source": [
    "# The problem?\n",
    "a['cse']"
   ]
  },
  {
   "cell_type": "code",
   "execution_count": null,
   "id": "b6e9f31d",
   "metadata": {},
   "outputs": [],
   "source": [
    "# The solution -> multiindex series(also known as Hierarchical Indexing)\n",
    "# multiple index levels within a single index"
   ]
  },
  {
   "cell_type": "code",
   "execution_count": 4,
   "id": "c4123eb8",
   "metadata": {},
   "outputs": [
    {
     "data": {
      "text/plain": [
       "Index([2019, 2020, 2021, 2022], dtype='int64')"
      ]
     },
     "execution_count": 4,
     "metadata": {},
     "output_type": "execute_result"
    }
   ],
   "source": [
    "# how to create multiindex object\n",
    "# 1. pd.MultiIndex.from_tuples()\n",
    "index_val = [('cse',2019),('cse',2020),('cse',2021),('cse',2022),('ece',2019),('ece',2020),('ece',2021),('ece',2022)]\n",
    "multiindex = pd.MultiIndex.from_tuples(index_val)\n",
    "multiindex.levels[1]\n"
   ]
  },
  {
   "cell_type": "code",
   "execution_count": 6,
   "id": "2ac8776c",
   "metadata": {},
   "outputs": [
    {
     "data": {
      "text/plain": [
       "MultiIndex([('cse', 2019),\n",
       "            ('cse', 2020),\n",
       "            ('cse', 2021),\n",
       "            ('cse', 2022),\n",
       "            ('ece', 2019),\n",
       "            ('ece', 2020),\n",
       "            ('ece', 2021),\n",
       "            ('ece', 2022)],\n",
       "           )"
      ]
     },
     "execution_count": 6,
     "metadata": {},
     "output_type": "execute_result"
    }
   ],
   "source": [
    "# 2. pd.MultiIndex.from_product()\n",
    "pd.MultiIndex.from_product([['cse','ece'],[2019,2020,2021,2022]])"
   ]
  },
  {
   "cell_type": "code",
   "execution_count": 5,
   "id": "97e3f28b",
   "metadata": {},
   "outputs": [
    {
     "data": {
      "text/plain": [
       "cse  2019    1\n",
       "     2020    2\n",
       "     2021    3\n",
       "     2022    4\n",
       "ece  2019    5\n",
       "     2020    6\n",
       "     2021    7\n",
       "     2022    8\n",
       "dtype: int64"
      ]
     },
     "execution_count": 5,
     "metadata": {},
     "output_type": "execute_result"
    }
   ],
   "source": [
    "# creating a series with multiindex object\n",
    "s = pd.Series([1,2,3,4,5,6,7,8],index=multiindex)\n",
    "s"
   ]
  },
  {
   "cell_type": "code",
   "execution_count": 6,
   "id": "0cf00bdb",
   "metadata": {},
   "outputs": [
    {
     "data": {
      "text/plain": [
       "np.int64(3)"
      ]
     },
     "execution_count": 6,
     "metadata": {},
     "output_type": "execute_result"
    }
   ],
   "source": [
    "s['cse'][2021]  # accessing data in multiindex series"
   ]
  },
  {
   "cell_type": "code",
   "execution_count": 7,
   "id": "12937125",
   "metadata": {},
   "outputs": [
    {
     "data": {
      "text/html": [
       "<div>\n",
       "<style scoped>\n",
       "    .dataframe tbody tr th:only-of-type {\n",
       "        vertical-align: middle;\n",
       "    }\n",
       "\n",
       "    .dataframe tbody tr th {\n",
       "        vertical-align: top;\n",
       "    }\n",
       "\n",
       "    .dataframe thead th {\n",
       "        text-align: right;\n",
       "    }\n",
       "</style>\n",
       "<table border=\"1\" class=\"dataframe\">\n",
       "  <thead>\n",
       "    <tr style=\"text-align: right;\">\n",
       "      <th></th>\n",
       "      <th>2019</th>\n",
       "      <th>2020</th>\n",
       "      <th>2021</th>\n",
       "      <th>2022</th>\n",
       "    </tr>\n",
       "  </thead>\n",
       "  <tbody>\n",
       "    <tr>\n",
       "      <th>cse</th>\n",
       "      <td>1</td>\n",
       "      <td>2</td>\n",
       "      <td>3</td>\n",
       "      <td>4</td>\n",
       "    </tr>\n",
       "    <tr>\n",
       "      <th>ece</th>\n",
       "      <td>5</td>\n",
       "      <td>6</td>\n",
       "      <td>7</td>\n",
       "      <td>8</td>\n",
       "    </tr>\n",
       "  </tbody>\n",
       "</table>\n",
       "</div>"
      ],
      "text/plain": [
       "     2019  2020  2021  2022\n",
       "cse     1     2     3     4\n",
       "ece     5     6     7     8"
      ]
     },
     "execution_count": 7,
     "metadata": {},
     "output_type": "execute_result"
    }
   ],
   "source": [
    "# unstack\n",
    "temp = s.unstack()\n",
    "temp"
   ]
  },
  {
   "cell_type": "code",
   "execution_count": 8,
   "id": "9749ec1c",
   "metadata": {},
   "outputs": [
    {
     "data": {
      "text/plain": [
       "cse  2019    1\n",
       "     2020    2\n",
       "     2021    3\n",
       "     2022    4\n",
       "ece  2019    5\n",
       "     2020    6\n",
       "     2021    7\n",
       "     2022    8\n",
       "dtype: int64"
      ]
     },
     "execution_count": 8,
     "metadata": {},
     "output_type": "execute_result"
    }
   ],
   "source": [
    "# stack\n",
    "temp.stack()"
   ]
  },
  {
   "cell_type": "markdown",
   "id": "97b0b20b",
   "metadata": {},
   "source": [
    "## multiindex dataframe"
   ]
  },
  {
   "cell_type": "code",
   "execution_count": 9,
   "id": "f1376224",
   "metadata": {},
   "outputs": [
    {
     "data": {
      "text/html": [
       "<div>\n",
       "<style scoped>\n",
       "    .dataframe tbody tr th:only-of-type {\n",
       "        vertical-align: middle;\n",
       "    }\n",
       "\n",
       "    .dataframe tbody tr th {\n",
       "        vertical-align: top;\n",
       "    }\n",
       "\n",
       "    .dataframe thead th {\n",
       "        text-align: right;\n",
       "    }\n",
       "</style>\n",
       "<table border=\"1\" class=\"dataframe\">\n",
       "  <thead>\n",
       "    <tr style=\"text-align: right;\">\n",
       "      <th></th>\n",
       "      <th></th>\n",
       "      <th>avg_package</th>\n",
       "      <th>students</th>\n",
       "    </tr>\n",
       "  </thead>\n",
       "  <tbody>\n",
       "    <tr>\n",
       "      <th rowspan=\"4\" valign=\"top\">cse</th>\n",
       "      <th>2019</th>\n",
       "      <td>1</td>\n",
       "      <td>2</td>\n",
       "    </tr>\n",
       "    <tr>\n",
       "      <th>2020</th>\n",
       "      <td>3</td>\n",
       "      <td>4</td>\n",
       "    </tr>\n",
       "    <tr>\n",
       "      <th>2021</th>\n",
       "      <td>5</td>\n",
       "      <td>6</td>\n",
       "    </tr>\n",
       "    <tr>\n",
       "      <th>2022</th>\n",
       "      <td>7</td>\n",
       "      <td>8</td>\n",
       "    </tr>\n",
       "    <tr>\n",
       "      <th rowspan=\"4\" valign=\"top\">ece</th>\n",
       "      <th>2019</th>\n",
       "      <td>9</td>\n",
       "      <td>10</td>\n",
       "    </tr>\n",
       "    <tr>\n",
       "      <th>2020</th>\n",
       "      <td>11</td>\n",
       "      <td>12</td>\n",
       "    </tr>\n",
       "    <tr>\n",
       "      <th>2021</th>\n",
       "      <td>13</td>\n",
       "      <td>14</td>\n",
       "    </tr>\n",
       "    <tr>\n",
       "      <th>2022</th>\n",
       "      <td>15</td>\n",
       "      <td>16</td>\n",
       "    </tr>\n",
       "  </tbody>\n",
       "</table>\n",
       "</div>"
      ],
      "text/plain": [
       "          avg_package  students\n",
       "cse 2019            1         2\n",
       "    2020            3         4\n",
       "    2021            5         6\n",
       "    2022            7         8\n",
       "ece 2019            9        10\n",
       "    2020           11        12\n",
       "    2021           13        14\n",
       "    2022           15        16"
      ]
     },
     "execution_count": 9,
     "metadata": {},
     "output_type": "execute_result"
    }
   ],
   "source": [
    "branch_df1 = pd.DataFrame(\n",
    "    [\n",
    "        [1,2],\n",
    "        [3,4],\n",
    "        [5,6],\n",
    "        [7,8],\n",
    "        [9,10],\n",
    "        [11,12],\n",
    "        [13,14],\n",
    "        [15,16],\n",
    "    ],\n",
    "    index = multiindex,\n",
    "    columns = ['avg_package','students']\n",
    ")\n",
    "\n",
    "branch_df1  "
   ]
  },
  {
   "cell_type": "code",
   "execution_count": 10,
   "id": "3a965710",
   "metadata": {},
   "outputs": [
    {
     "data": {
      "text/plain": [
       "cse  2019     2\n",
       "     2020     4\n",
       "     2021     6\n",
       "     2022     8\n",
       "ece  2019    10\n",
       "     2020    12\n",
       "     2021    14\n",
       "     2022    16\n",
       "Name: students, dtype: int64"
      ]
     },
     "execution_count": 10,
     "metadata": {},
     "output_type": "execute_result"
    }
   ],
   "source": [
    "branch_df1['students']"
   ]
  },
  {
   "cell_type": "code",
   "execution_count": 19,
   "id": "da4ef2d9",
   "metadata": {},
   "outputs": [
    {
     "data": {
      "text/plain": [
       "cse  2019     1\n",
       "     2020     3\n",
       "     2021     5\n",
       "     2022     7\n",
       "ece  2019     9\n",
       "     2020    11\n",
       "     2021    13\n",
       "     2022    15\n",
       "Name: avg_package, dtype: int64"
      ]
     },
     "execution_count": 19,
     "metadata": {},
     "output_type": "execute_result"
    }
   ],
   "source": [
    "branch_df1['avg_package']"
   ]
  },
  {
   "cell_type": "code",
   "execution_count": 11,
   "id": "93357ff3",
   "metadata": {},
   "outputs": [
    {
     "data": {
      "text/html": [
       "<div>\n",
       "<style scoped>\n",
       "    .dataframe tbody tr th:only-of-type {\n",
       "        vertical-align: middle;\n",
       "    }\n",
       "\n",
       "    .dataframe tbody tr th {\n",
       "        vertical-align: top;\n",
       "    }\n",
       "\n",
       "    .dataframe thead tr th {\n",
       "        text-align: left;\n",
       "    }\n",
       "</style>\n",
       "<table border=\"1\" class=\"dataframe\">\n",
       "  <thead>\n",
       "    <tr>\n",
       "      <th></th>\n",
       "      <th></th>\n",
       "      <th colspan=\"2\" halign=\"left\">delhi</th>\n",
       "      <th colspan=\"2\" halign=\"left\">mumbai</th>\n",
       "    </tr>\n",
       "    <tr>\n",
       "      <th></th>\n",
       "      <th></th>\n",
       "      <th>avg_package</th>\n",
       "      <th>students</th>\n",
       "      <th>avg_package</th>\n",
       "      <th>students</th>\n",
       "    </tr>\n",
       "  </thead>\n",
       "  <tbody>\n",
       "    <tr>\n",
       "      <th rowspan=\"4\" valign=\"top\">cse</th>\n",
       "      <th>2019</th>\n",
       "      <td>1</td>\n",
       "      <td>2</td>\n",
       "      <td>0</td>\n",
       "      <td>0</td>\n",
       "    </tr>\n",
       "    <tr>\n",
       "      <th>2020</th>\n",
       "      <td>3</td>\n",
       "      <td>4</td>\n",
       "      <td>0</td>\n",
       "      <td>0</td>\n",
       "    </tr>\n",
       "    <tr>\n",
       "      <th>2021</th>\n",
       "      <td>5</td>\n",
       "      <td>6</td>\n",
       "      <td>0</td>\n",
       "      <td>0</td>\n",
       "    </tr>\n",
       "    <tr>\n",
       "      <th>2022</th>\n",
       "      <td>7</td>\n",
       "      <td>8</td>\n",
       "      <td>0</td>\n",
       "      <td>0</td>\n",
       "    </tr>\n",
       "    <tr>\n",
       "      <th rowspan=\"4\" valign=\"top\">ece</th>\n",
       "      <th>2019</th>\n",
       "      <td>9</td>\n",
       "      <td>10</td>\n",
       "      <td>0</td>\n",
       "      <td>0</td>\n",
       "    </tr>\n",
       "    <tr>\n",
       "      <th>2020</th>\n",
       "      <td>11</td>\n",
       "      <td>12</td>\n",
       "      <td>0</td>\n",
       "      <td>0</td>\n",
       "    </tr>\n",
       "    <tr>\n",
       "      <th>2021</th>\n",
       "      <td>13</td>\n",
       "      <td>14</td>\n",
       "      <td>0</td>\n",
       "      <td>0</td>\n",
       "    </tr>\n",
       "    <tr>\n",
       "      <th>2022</th>\n",
       "      <td>15</td>\n",
       "      <td>16</td>\n",
       "      <td>0</td>\n",
       "      <td>0</td>\n",
       "    </tr>\n",
       "  </tbody>\n",
       "</table>\n",
       "</div>"
      ],
      "text/plain": [
       "               delhi               mumbai         \n",
       "         avg_package students avg_package students\n",
       "cse 2019           1        2           0        0\n",
       "    2020           3        4           0        0\n",
       "    2021           5        6           0        0\n",
       "    2022           7        8           0        0\n",
       "ece 2019           9       10           0        0\n",
       "    2020          11       12           0        0\n",
       "    2021          13       14           0        0\n",
       "    2022          15       16           0        0"
      ]
     },
     "execution_count": 11,
     "metadata": {},
     "output_type": "execute_result"
    }
   ],
   "source": [
    "# Multiindex df in terms of both cols and index\n",
    "\n",
    "branch_df3 = pd.DataFrame(\n",
    "    [\n",
    "        [1,2,0,0],\n",
    "        [3,4,0,0],\n",
    "        [5,6,0,0],\n",
    "        [7,8,0,0],\n",
    "        [9,10,0,0],\n",
    "        [11,12,0,0],\n",
    "        [13,14,0,0],\n",
    "        [15,16,0,0],\n",
    "    ],\n",
    "    index = multiindex,\n",
    "    columns = pd.MultiIndex.from_product([['delhi','mumbai'],['avg_package','students']])\n",
    ")\n",
    "\n",
    "branch_df3"
   ]
  },
  {
   "cell_type": "code",
   "execution_count": 17,
   "id": "529e184a",
   "metadata": {},
   "outputs": [
    {
     "data": {
      "text/plain": [
       "delhi   avg_package  2019  cse     1\n",
       "                           ece     9\n",
       "                     2020  cse     3\n",
       "                           ece    11\n",
       "                     2021  cse     5\n",
       "                           ece    13\n",
       "                     2022  cse     7\n",
       "                           ece    15\n",
       "        students     2019  cse     2\n",
       "                           ece    10\n",
       "                     2020  cse     4\n",
       "                           ece    12\n",
       "                     2021  cse     6\n",
       "                           ece    14\n",
       "                     2022  cse     8\n",
       "                           ece    16\n",
       "mumbai  avg_package  2019  cse     0\n",
       "                           ece     0\n",
       "                     2020  cse     0\n",
       "                           ece     0\n",
       "                     2021  cse     0\n",
       "                           ece     0\n",
       "                     2022  cse     0\n",
       "                           ece     0\n",
       "        students     2019  cse     0\n",
       "                           ece     0\n",
       "                     2020  cse     0\n",
       "                           ece     0\n",
       "                     2021  cse     0\n",
       "                           ece     0\n",
       "                     2022  cse     0\n",
       "                           ece     0\n",
       "dtype: int64"
      ]
     },
     "execution_count": 17,
     "metadata": {},
     "output_type": "execute_result"
    }
   ],
   "source": [
    "branch_df3.unstack().unstack()"
   ]
  },
  {
   "cell_type": "code",
   "execution_count": 13,
   "id": "1d25a816",
   "metadata": {},
   "outputs": [
    {
     "name": "stderr",
     "output_type": "stream",
     "text": [
      "C:\\Users\\ieish\\AppData\\Local\\Temp\\ipykernel_20528\\4023844418.py:1: FutureWarning: The previous implementation of stack is deprecated and will be removed in a future version of pandas. See the What's New notes for pandas 2.1.0 for details. Specify future_stack=True to adopt the new implementation and silence this warning.\n",
      "  branch_df3.stack().stack()\n"
     ]
    },
    {
     "data": {
      "text/plain": [
       "cse  2019  avg_package  delhi      1\n",
       "                        mumbai     0\n",
       "           students     delhi      2\n",
       "                        mumbai     0\n",
       "     2020  avg_package  delhi      3\n",
       "                        mumbai     0\n",
       "           students     delhi      4\n",
       "                        mumbai     0\n",
       "     2021  avg_package  delhi      5\n",
       "                        mumbai     0\n",
       "           students     delhi      6\n",
       "                        mumbai     0\n",
       "     2022  avg_package  delhi      7\n",
       "                        mumbai     0\n",
       "           students     delhi      8\n",
       "                        mumbai     0\n",
       "ece  2019  avg_package  delhi      9\n",
       "                        mumbai     0\n",
       "           students     delhi     10\n",
       "                        mumbai     0\n",
       "     2020  avg_package  delhi     11\n",
       "                        mumbai     0\n",
       "           students     delhi     12\n",
       "                        mumbai     0\n",
       "     2021  avg_package  delhi     13\n",
       "                        mumbai     0\n",
       "           students     delhi     14\n",
       "                        mumbai     0\n",
       "     2022  avg_package  delhi     15\n",
       "                        mumbai     0\n",
       "           students     delhi     16\n",
       "                        mumbai     0\n",
       "dtype: int64"
      ]
     },
     "execution_count": 13,
     "metadata": {},
     "output_type": "execute_result"
    }
   ],
   "source": [
    "branch_df3.stack().stack()"
   ]
  },
  {
   "cell_type": "markdown",
   "id": "03a5f230",
   "metadata": {},
   "source": [
    "### Working with multiindex dataframes"
   ]
  },
  {
   "cell_type": "code",
   "execution_count": 18,
   "id": "d32109b5",
   "metadata": {},
   "outputs": [
    {
     "name": "stdout",
     "output_type": "stream",
     "text": [
      "<class 'pandas.core.frame.DataFrame'>\n",
      "MultiIndex: 8 entries, ('cse', np.int64(2019)) to ('ece', np.int64(2022))\n",
      "Data columns (total 4 columns):\n",
      " #   Column                 Non-Null Count  Dtype\n",
      "---  ------                 --------------  -----\n",
      " 0   (delhi, avg_package)   8 non-null      int64\n",
      " 1   (delhi, students)      8 non-null      int64\n",
      " 2   (mumbai, avg_package)  8 non-null      int64\n",
      " 3   (mumbai, students)     8 non-null      int64\n",
      "dtypes: int64(4)\n",
      "memory usage: 632.0+ bytes\n"
     ]
    },
    {
     "data": {
      "text/html": [
       "<div>\n",
       "<style scoped>\n",
       "    .dataframe tbody tr th:only-of-type {\n",
       "        vertical-align: middle;\n",
       "    }\n",
       "\n",
       "    .dataframe tbody tr th {\n",
       "        vertical-align: top;\n",
       "    }\n",
       "\n",
       "    .dataframe thead tr th {\n",
       "        text-align: left;\n",
       "    }\n",
       "</style>\n",
       "<table border=\"1\" class=\"dataframe\">\n",
       "  <thead>\n",
       "    <tr>\n",
       "      <th></th>\n",
       "      <th></th>\n",
       "      <th colspan=\"2\" halign=\"left\">delhi</th>\n",
       "      <th colspan=\"2\" halign=\"left\">mumbai</th>\n",
       "    </tr>\n",
       "    <tr>\n",
       "      <th></th>\n",
       "      <th></th>\n",
       "      <th>avg_package</th>\n",
       "      <th>students</th>\n",
       "      <th>avg_package</th>\n",
       "      <th>students</th>\n",
       "    </tr>\n",
       "  </thead>\n",
       "  <tbody>\n",
       "    <tr>\n",
       "      <th rowspan=\"4\" valign=\"top\">cse</th>\n",
       "      <th>2019</th>\n",
       "      <td>False</td>\n",
       "      <td>False</td>\n",
       "      <td>False</td>\n",
       "      <td>False</td>\n",
       "    </tr>\n",
       "    <tr>\n",
       "      <th>2020</th>\n",
       "      <td>False</td>\n",
       "      <td>False</td>\n",
       "      <td>False</td>\n",
       "      <td>False</td>\n",
       "    </tr>\n",
       "    <tr>\n",
       "      <th>2021</th>\n",
       "      <td>False</td>\n",
       "      <td>False</td>\n",
       "      <td>False</td>\n",
       "      <td>False</td>\n",
       "    </tr>\n",
       "    <tr>\n",
       "      <th>2022</th>\n",
       "      <td>False</td>\n",
       "      <td>False</td>\n",
       "      <td>False</td>\n",
       "      <td>False</td>\n",
       "    </tr>\n",
       "    <tr>\n",
       "      <th rowspan=\"4\" valign=\"top\">ece</th>\n",
       "      <th>2019</th>\n",
       "      <td>False</td>\n",
       "      <td>False</td>\n",
       "      <td>False</td>\n",
       "      <td>False</td>\n",
       "    </tr>\n",
       "    <tr>\n",
       "      <th>2020</th>\n",
       "      <td>False</td>\n",
       "      <td>False</td>\n",
       "      <td>False</td>\n",
       "      <td>False</td>\n",
       "    </tr>\n",
       "    <tr>\n",
       "      <th>2021</th>\n",
       "      <td>False</td>\n",
       "      <td>False</td>\n",
       "      <td>False</td>\n",
       "      <td>False</td>\n",
       "    </tr>\n",
       "    <tr>\n",
       "      <th>2022</th>\n",
       "      <td>False</td>\n",
       "      <td>False</td>\n",
       "      <td>False</td>\n",
       "      <td>False</td>\n",
       "    </tr>\n",
       "  </tbody>\n",
       "</table>\n",
       "</div>"
      ],
      "text/plain": [
       "               delhi               mumbai         \n",
       "         avg_package students avg_package students\n",
       "cse 2019       False    False       False    False\n",
       "    2020       False    False       False    False\n",
       "    2021       False    False       False    False\n",
       "    2022       False    False       False    False\n",
       "ece 2019       False    False       False    False\n",
       "    2020       False    False       False    False\n",
       "    2021       False    False       False    False\n",
       "    2022       False    False       False    False"
      ]
     },
     "execution_count": 18,
     "metadata": {},
     "output_type": "execute_result"
    }
   ],
   "source": [
    "# head and tail\n",
    "branch_df3.head()\n",
    "# shape\n",
    "branch_df3.shape\n",
    "# info\n",
    "branch_df3.info()\n",
    "# duplicated -> isnull\n",
    "branch_df3.duplicated()\n",
    "branch_df3.isnull()"
   ]
  },
  {
   "cell_type": "code",
   "execution_count": 20,
   "id": "b933409d",
   "metadata": {},
   "outputs": [
    {
     "data": {
      "text/plain": [
       "delhi   avg_package    7\n",
       "        students       8\n",
       "mumbai  avg_package    0\n",
       "        students       0\n",
       "Name: (cse, 2022), dtype: int64"
      ]
     },
     "execution_count": 20,
     "metadata": {},
     "output_type": "execute_result"
    }
   ],
   "source": [
    "# Extracting rows single\n",
    "branch_df3.loc[('cse',2022)]"
   ]
  },
  {
   "cell_type": "code",
   "execution_count": 21,
   "id": "2837fec7",
   "metadata": {},
   "outputs": [
    {
     "data": {
      "text/plain": [
       "cse  2019     2\n",
       "     2020     4\n",
       "     2021     6\n",
       "     2022     8\n",
       "ece  2019    10\n",
       "     2020    12\n",
       "     2021    14\n",
       "     2022    16\n",
       "Name: students, dtype: int64"
      ]
     },
     "execution_count": 21,
     "metadata": {},
     "output_type": "execute_result"
    }
   ],
   "source": [
    "# Extracting cols\n",
    "branch_df3['delhi']['students']"
   ]
  },
  {
   "cell_type": "code",
   "execution_count": 22,
   "id": "74779ff5",
   "metadata": {},
   "outputs": [
    {
     "data": {
      "text/html": [
       "<div>\n",
       "<style scoped>\n",
       "    .dataframe tbody tr th:only-of-type {\n",
       "        vertical-align: middle;\n",
       "    }\n",
       "\n",
       "    .dataframe tbody tr th {\n",
       "        vertical-align: top;\n",
       "    }\n",
       "\n",
       "    .dataframe thead tr th {\n",
       "        text-align: left;\n",
       "    }\n",
       "</style>\n",
       "<table border=\"1\" class=\"dataframe\">\n",
       "  <thead>\n",
       "    <tr>\n",
       "      <th></th>\n",
       "      <th></th>\n",
       "      <th>delhi</th>\n",
       "      <th>mumbai</th>\n",
       "    </tr>\n",
       "    <tr>\n",
       "      <th></th>\n",
       "      <th></th>\n",
       "      <th>students</th>\n",
       "      <th>avg_package</th>\n",
       "    </tr>\n",
       "  </thead>\n",
       "  <tbody>\n",
       "    <tr>\n",
       "      <th>cse</th>\n",
       "      <th>2019</th>\n",
       "      <td>2</td>\n",
       "      <td>0</td>\n",
       "    </tr>\n",
       "    <tr>\n",
       "      <th>ece</th>\n",
       "      <th>2019</th>\n",
       "      <td>10</td>\n",
       "      <td>0</td>\n",
       "    </tr>\n",
       "  </tbody>\n",
       "</table>\n",
       "</div>"
      ],
      "text/plain": [
       "            delhi      mumbai\n",
       "         students avg_package\n",
       "cse 2019        2           0\n",
       "ece 2019       10           0"
      ]
     },
     "execution_count": 22,
     "metadata": {},
     "output_type": "execute_result"
    }
   ],
   "source": [
    "# Extracting both\n",
    "branch_df3.iloc[[0,4],[1,2]]"
   ]
  },
  {
   "cell_type": "code",
   "execution_count": 23,
   "id": "80cc21a8",
   "metadata": {},
   "outputs": [
    {
     "data": {
      "text/html": [
       "<div>\n",
       "<style scoped>\n",
       "    .dataframe tbody tr th:only-of-type {\n",
       "        vertical-align: middle;\n",
       "    }\n",
       "\n",
       "    .dataframe tbody tr th {\n",
       "        vertical-align: top;\n",
       "    }\n",
       "\n",
       "    .dataframe thead tr th {\n",
       "        text-align: left;\n",
       "    }\n",
       "</style>\n",
       "<table border=\"1\" class=\"dataframe\">\n",
       "  <thead>\n",
       "    <tr>\n",
       "      <th></th>\n",
       "      <th></th>\n",
       "      <th colspan=\"2\" halign=\"left\">delhi</th>\n",
       "      <th colspan=\"2\" halign=\"left\">mumbai</th>\n",
       "    </tr>\n",
       "    <tr>\n",
       "      <th></th>\n",
       "      <th></th>\n",
       "      <th>avg_package</th>\n",
       "      <th>students</th>\n",
       "      <th>avg_package</th>\n",
       "      <th>students</th>\n",
       "    </tr>\n",
       "  </thead>\n",
       "  <tbody>\n",
       "    <tr>\n",
       "      <th rowspan=\"4\" valign=\"top\">ece</th>\n",
       "      <th>2019</th>\n",
       "      <td>9</td>\n",
       "      <td>10</td>\n",
       "      <td>0</td>\n",
       "      <td>0</td>\n",
       "    </tr>\n",
       "    <tr>\n",
       "      <th>2020</th>\n",
       "      <td>11</td>\n",
       "      <td>12</td>\n",
       "      <td>0</td>\n",
       "      <td>0</td>\n",
       "    </tr>\n",
       "    <tr>\n",
       "      <th>2021</th>\n",
       "      <td>13</td>\n",
       "      <td>14</td>\n",
       "      <td>0</td>\n",
       "      <td>0</td>\n",
       "    </tr>\n",
       "    <tr>\n",
       "      <th>2022</th>\n",
       "      <td>15</td>\n",
       "      <td>16</td>\n",
       "      <td>0</td>\n",
       "      <td>0</td>\n",
       "    </tr>\n",
       "    <tr>\n",
       "      <th rowspan=\"4\" valign=\"top\">cse</th>\n",
       "      <th>2019</th>\n",
       "      <td>1</td>\n",
       "      <td>2</td>\n",
       "      <td>0</td>\n",
       "      <td>0</td>\n",
       "    </tr>\n",
       "    <tr>\n",
       "      <th>2020</th>\n",
       "      <td>3</td>\n",
       "      <td>4</td>\n",
       "      <td>0</td>\n",
       "      <td>0</td>\n",
       "    </tr>\n",
       "    <tr>\n",
       "      <th>2021</th>\n",
       "      <td>5</td>\n",
       "      <td>6</td>\n",
       "      <td>0</td>\n",
       "      <td>0</td>\n",
       "    </tr>\n",
       "    <tr>\n",
       "      <th>2022</th>\n",
       "      <td>7</td>\n",
       "      <td>8</td>\n",
       "      <td>0</td>\n",
       "      <td>0</td>\n",
       "    </tr>\n",
       "  </tbody>\n",
       "</table>\n",
       "</div>"
      ],
      "text/plain": [
       "               delhi               mumbai         \n",
       "         avg_package students avg_package students\n",
       "ece 2019           9       10           0        0\n",
       "    2020          11       12           0        0\n",
       "    2021          13       14           0        0\n",
       "    2022          15       16           0        0\n",
       "cse 2019           1        2           0        0\n",
       "    2020           3        4           0        0\n",
       "    2021           5        6           0        0\n",
       "    2022           7        8           0        0"
      ]
     },
     "execution_count": 23,
     "metadata": {},
     "output_type": "execute_result"
    }
   ],
   "source": [
    "# sort index\n",
    "# both -> descending -> diff order\n",
    "# based on one level\n",
    "branch_df3.sort_index(ascending=False)\n",
    "branch_df3.sort_index(ascending=[False,True])\n",
    "branch_df3.sort_index(level=0,ascending=[False])"
   ]
  },
  {
   "cell_type": "code",
   "execution_count": 24,
   "id": "e2c933d1",
   "metadata": {},
   "outputs": [
    {
     "data": {
      "text/html": [
       "<div>\n",
       "<style scoped>\n",
       "    .dataframe tbody tr th:only-of-type {\n",
       "        vertical-align: middle;\n",
       "    }\n",
       "\n",
       "    .dataframe tbody tr th {\n",
       "        vertical-align: top;\n",
       "    }\n",
       "\n",
       "    .dataframe thead tr th {\n",
       "        text-align: left;\n",
       "    }\n",
       "</style>\n",
       "<table border=\"1\" class=\"dataframe\">\n",
       "  <thead>\n",
       "    <tr>\n",
       "      <th></th>\n",
       "      <th></th>\n",
       "      <th colspan=\"4\" halign=\"left\">cse</th>\n",
       "      <th colspan=\"4\" halign=\"left\">ece</th>\n",
       "    </tr>\n",
       "    <tr>\n",
       "      <th></th>\n",
       "      <th></th>\n",
       "      <th>2019</th>\n",
       "      <th>2020</th>\n",
       "      <th>2021</th>\n",
       "      <th>2022</th>\n",
       "      <th>2019</th>\n",
       "      <th>2020</th>\n",
       "      <th>2021</th>\n",
       "      <th>2022</th>\n",
       "    </tr>\n",
       "  </thead>\n",
       "  <tbody>\n",
       "    <tr>\n",
       "      <th rowspan=\"2\" valign=\"top\">delhi</th>\n",
       "      <th>avg_package</th>\n",
       "      <td>1</td>\n",
       "      <td>3</td>\n",
       "      <td>5</td>\n",
       "      <td>7</td>\n",
       "      <td>9</td>\n",
       "      <td>11</td>\n",
       "      <td>13</td>\n",
       "      <td>15</td>\n",
       "    </tr>\n",
       "    <tr>\n",
       "      <th>students</th>\n",
       "      <td>2</td>\n",
       "      <td>4</td>\n",
       "      <td>6</td>\n",
       "      <td>8</td>\n",
       "      <td>10</td>\n",
       "      <td>12</td>\n",
       "      <td>14</td>\n",
       "      <td>16</td>\n",
       "    </tr>\n",
       "    <tr>\n",
       "      <th rowspan=\"2\" valign=\"top\">mumbai</th>\n",
       "      <th>avg_package</th>\n",
       "      <td>0</td>\n",
       "      <td>0</td>\n",
       "      <td>0</td>\n",
       "      <td>0</td>\n",
       "      <td>0</td>\n",
       "      <td>0</td>\n",
       "      <td>0</td>\n",
       "      <td>0</td>\n",
       "    </tr>\n",
       "    <tr>\n",
       "      <th>students</th>\n",
       "      <td>0</td>\n",
       "      <td>0</td>\n",
       "      <td>0</td>\n",
       "      <td>0</td>\n",
       "      <td>0</td>\n",
       "      <td>0</td>\n",
       "      <td>0</td>\n",
       "      <td>0</td>\n",
       "    </tr>\n",
       "  </tbody>\n",
       "</table>\n",
       "</div>"
      ],
      "text/plain": [
       "                    cse                 ece               \n",
       "                   2019 2020 2021 2022 2019 2020 2021 2022\n",
       "delhi  avg_package    1    3    5    7    9   11   13   15\n",
       "       students       2    4    6    8   10   12   14   16\n",
       "mumbai avg_package    0    0    0    0    0    0    0    0\n",
       "       students       0    0    0    0    0    0    0    0"
      ]
     },
     "execution_count": 24,
     "metadata": {},
     "output_type": "execute_result"
    }
   ],
   "source": [
    "# multiindex dataframe(col) -> transpose\n",
    "branch_df3.transpose()"
   ]
  },
  {
   "cell_type": "code",
   "execution_count": null,
   "id": "cc93061e",
   "metadata": {},
   "outputs": [],
   "source": []
  }
 ],
 "metadata": {
  "kernelspec": {
   "display_name": "Python 3",
   "language": "python",
   "name": "python3"
  },
  "language_info": {
   "codemirror_mode": {
    "name": "ipython",
    "version": 3
   },
   "file_extension": ".py",
   "mimetype": "text/x-python",
   "name": "python",
   "nbconvert_exporter": "python",
   "pygments_lexer": "ipython3",
   "version": "3.13.5"
  }
 },
 "nbformat": 4,
 "nbformat_minor": 5
}
